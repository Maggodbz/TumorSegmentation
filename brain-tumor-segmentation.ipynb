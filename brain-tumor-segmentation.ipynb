{
 "cells": [
  {
   "cell_type": "markdown",
   "metadata": {},
   "source": [
    "**Testing**"
   ]
  },
  {
   "cell_type": "code",
   "execution_count": null,
   "metadata": {
    "_cell_guid": "b1076dfc-b9ad-4769-8c92-a6c4dae69d19",
    "_uuid": "8f2839f25d086af736a60e9eeb907d3b93b6e0e5",
    "execution": {
     "iopub.execute_input": "2025-04-09T07:39:32.878262Z",
     "iopub.status.busy": "2025-04-09T07:39:32.877956Z",
     "iopub.status.idle": "2025-04-09T07:39:47.686102Z",
     "shell.execute_reply": "2025-04-09T07:39:47.685391Z",
     "shell.execute_reply.started": "2025-04-09T07:39:32.878235Z"
    },
    "trusted": true
   },
   "outputs": [],
   "source": [
    "import os\n",
    "os.environ[\"TF_CPP_MIN_LOG_LEVEL\"] = \"2\"\n",
    "\n",
    "import numpy as np\n",
    "import cv2\n",
    "from glob import glob\n",
    "import seaborn as sns\n",
    "import matplotlib.pyplot as plt\n",
    "from sklearn.utils import shuffle\n",
    "import tensorflow as tf\n",
    "from tensorflow.keras import backend as K\n",
    "from tensorflow.keras.callbacks import ModelCheckpoint, CSVLogger\n",
    "from tensorflow.keras.callbacks import ReduceLROnPlateau, EarlyStopping, TensorBoard\n",
    "from tensorflow.keras.optimizers import Adam\n",
    "from sklearn.model_selection import train_test_split\n",
    "from tensorflow.keras.utils import CustomObjectScope\n",
    "from sklearn.metrics import f1_score, jaccard_score, precision_score, recall_score\n",
    "\n",
    "from tensorflow.keras.layers import Conv2D, BatchNormalization, Activation\n",
    "from tensorflow.keras.layers import MaxPool2D, Conv2DTranspose, Concatenate, Input\n",
    "from tensorflow.keras.models import Model"
   ]
  },
  {
   "cell_type": "code",
   "execution_count": 2,
   "metadata": {
    "execution": {
     "iopub.execute_input": "2025-04-09T07:39:47.687258Z",
     "iopub.status.busy": "2025-04-09T07:39:47.686781Z",
     "iopub.status.idle": "2025-04-09T07:39:47.690831Z",
     "shell.execute_reply": "2025-04-09T07:39:47.689729Z",
     "shell.execute_reply.started": "2025-04-09T07:39:47.687236Z"
    },
    "trusted": true
   },
   "outputs": [],
   "source": [
    "np.random.seed(13)"
   ]
  },
  {
   "cell_type": "code",
   "execution_count": 3,
   "metadata": {
    "execution": {
     "iopub.execute_input": "2025-04-09T07:39:47.691833Z",
     "iopub.status.busy": "2025-04-09T07:39:47.691598Z",
     "iopub.status.idle": "2025-04-09T07:39:47.747748Z",
     "shell.execute_reply": "2025-04-09T07:39:47.746834Z",
     "shell.execute_reply.started": "2025-04-09T07:39:47.691814Z"
    },
    "trusted": true
   },
   "outputs": [],
   "source": [
    "def conv_block(inputs, num_filters):\n",
    "    x = Conv2D(num_filters, 3, padding=\"same\")(inputs)\n",
    "    x = BatchNormalization()(x)\n",
    "    x = Activation(\"relu\")(x)\n",
    "\n",
    "    x = Conv2D(num_filters, 3, padding=\"same\")(x)\n",
    "    x = BatchNormalization()(x)\n",
    "    x = Activation(\"relu\")(x)\n",
    "\n",
    "    return x"
   ]
  },
  {
   "cell_type": "code",
   "execution_count": 4,
   "metadata": {
    "execution": {
     "iopub.execute_input": "2025-04-09T07:39:47.750259Z",
     "iopub.status.busy": "2025-04-09T07:39:47.749883Z",
     "iopub.status.idle": "2025-04-09T07:39:47.763655Z",
     "shell.execute_reply": "2025-04-09T07:39:47.762829Z",
     "shell.execute_reply.started": "2025-04-09T07:39:47.750235Z"
    },
    "trusted": true
   },
   "outputs": [],
   "source": [
    "def encoder_block(inputs, num_filters):\n",
    "    x = conv_block(inputs, num_filters)\n",
    "    p = MaxPool2D((2, 2))(x)\n",
    "    return x, p"
   ]
  },
  {
   "cell_type": "code",
   "execution_count": 5,
   "metadata": {
    "execution": {
     "iopub.execute_input": "2025-04-09T07:39:47.765453Z",
     "iopub.status.busy": "2025-04-09T07:39:47.765188Z",
     "iopub.status.idle": "2025-04-09T07:39:47.778660Z",
     "shell.execute_reply": "2025-04-09T07:39:47.777897Z",
     "shell.execute_reply.started": "2025-04-09T07:39:47.765423Z"
    },
    "trusted": true
   },
   "outputs": [],
   "source": [
    "def decoder_block(inputs, skip_features, num_filters):\n",
    "    x = Conv2DTranspose(num_filters, 2, strides=2, padding=\"same\")(inputs)\n",
    "    x = Concatenate()([x, skip_features])\n",
    "    x = conv_block(x, num_filters)\n",
    "    return x"
   ]
  },
  {
   "cell_type": "code",
   "execution_count": null,
   "metadata": {
    "execution": {
     "iopub.execute_input": "2025-04-09T07:39:47.779781Z",
     "iopub.status.busy": "2025-04-09T07:39:47.779530Z",
     "iopub.status.idle": "2025-04-09T07:39:50.346608Z",
     "shell.execute_reply": "2025-04-09T07:39:50.345744Z",
     "shell.execute_reply.started": "2025-04-09T07:39:47.779748Z"
    },
    "trusted": true
   },
   "outputs": [],
   "source": [
    "def unet(input_shape):\n",
    "    inputs = Input(input_shape)\n",
    "\n",
    "    s1, p1 = encoder_block(inputs, 64)\n",
    "    s2, p2 = encoder_block(p1, 128)\n",
    "    s3, p3 = encoder_block(p2, 256)\n",
    "    s4, p4 = encoder_block(p3, 512)\n",
    "\n",
    "    b1 = conv_block(p4, 1024)\n",
    "\n",
    "    d1 = decoder_block(b1, s4, 512)\n",
    "    d2 = decoder_block(d1, s3, 256)\n",
    "    d3 = decoder_block(d2, s2, 128)\n",
    "    d4 = decoder_block(d3, s1, 64)\n",
    "\n",
    "    outputs = Conv2D(1, 1, padding=\"same\", activation=\"sigmoid\")(d4)\n",
    "\n",
    "    model = Model(inputs, outputs, name=\"UNET\")\n",
    "    return model\n",
    "\n",
    "model = unet((256,256,3))\n",
    "model.summary()"
   ]
  },
  {
   "cell_type": "code",
   "execution_count": 7,
   "metadata": {
    "execution": {
     "iopub.execute_input": "2025-04-09T07:39:50.347827Z",
     "iopub.status.busy": "2025-04-09T07:39:50.347499Z",
     "iopub.status.idle": "2025-04-09T07:39:50.352430Z",
     "shell.execute_reply": "2025-04-09T07:39:50.351577Z",
     "shell.execute_reply.started": "2025-04-09T07:39:50.347798Z"
    },
    "trusted": true
   },
   "outputs": [],
   "source": [
    "smooth = 1e-15\n",
    "def dice_coef(y_true, y_pred):\n",
    "    y_true = tf.keras.layers.Flatten()(y_true)\n",
    "    y_pred = tf.keras.layers.Flatten()(y_pred)\n",
    "    intersection = tf.reduce_sum(y_true * y_pred)\n",
    "    return (2. * intersection + smooth) / (tf.reduce_sum(y_true) + tf.reduce_sum(y_pred) + smooth)\n",
    "\n",
    "def dice_loss(y_true, y_pred):\n",
    "    return 1.0 - dice_coef(y_true, y_pred)"
   ]
  },
  {
   "cell_type": "code",
   "execution_count": 8,
   "metadata": {
    "execution": {
     "iopub.execute_input": "2025-04-09T07:39:50.353319Z",
     "iopub.status.busy": "2025-04-09T07:39:50.353134Z",
     "iopub.status.idle": "2025-04-09T07:39:50.367742Z",
     "shell.execute_reply": "2025-04-09T07:39:50.367123Z",
     "shell.execute_reply.started": "2025-04-09T07:39:50.353302Z"
    },
    "trusted": true
   },
   "outputs": [],
   "source": [
    "H = 256\n",
    "W = 256\n",
    "\n",
    "def create_dir(path):\n",
    "    if not os.path.exists(path):\n",
    "        os.makedirs(path)\n",
    "create_dir(\"files\")"
   ]
  },
  {
   "cell_type": "code",
   "execution_count": 9,
   "metadata": {
    "execution": {
     "iopub.execute_input": "2025-04-09T07:39:50.368827Z",
     "iopub.status.busy": "2025-04-09T07:39:50.368553Z",
     "iopub.status.idle": "2025-04-09T07:39:50.382679Z",
     "shell.execute_reply": "2025-04-09T07:39:50.381769Z",
     "shell.execute_reply.started": "2025-04-09T07:39:50.368798Z"
    },
    "trusted": true
   },
   "outputs": [],
   "source": [
    "def load_dataset(path, split=0.2):\n",
    "    images = sorted(glob(os.path.join(path, \"t2\", \"*.png\")))\n",
    "    masks = sorted(glob(os.path.join(path, \"mask\", \"*.png\")))\n",
    "\n",
    "    split_size = int(len(images) * split)\n",
    "\n",
    "    train_x, valid_x = train_test_split(images, test_size=split_size, random_state=42)\n",
    "    train_y, valid_y = train_test_split(masks, test_size=split_size, random_state=42)\n",
    " \n",
    "    train_x, test_x = train_test_split(train_x, test_size=split_size, random_state=42)\n",
    "    train_y, test_y = train_test_split(train_y, test_size=split_size, random_state=42)\n",
    "\n",
    "    return (train_x, train_y), (valid_x, valid_y), (test_x, test_y)"
   ]
  },
  {
   "cell_type": "code",
   "execution_count": 10,
   "metadata": {
    "execution": {
     "iopub.execute_input": "2025-04-09T07:39:50.383601Z",
     "iopub.status.busy": "2025-04-09T07:39:50.383366Z",
     "iopub.status.idle": "2025-04-09T07:39:50.397473Z",
     "shell.execute_reply": "2025-04-09T07:39:50.396674Z",
     "shell.execute_reply.started": "2025-04-09T07:39:50.383575Z"
    },
    "trusted": true
   },
   "outputs": [],
   "source": [
    "def read_image(path):\n",
    "    path = path.decode()\n",
    "    x = np.load(path)                             # (256, 256)\n",
    "    x = cv2.resize(x, (W, H))                     # (256, 256)\n",
    "    x = np.expand_dims(x, axis=-1)                # (256, 256, 1)\n",
    "    x = x / 255.0\n",
    "    x = x.astype(np.float32)\n",
    "    return x"
   ]
  },
  {
   "cell_type": "code",
   "execution_count": 11,
   "metadata": {
    "execution": {
     "iopub.execute_input": "2025-04-09T07:39:50.398523Z",
     "iopub.status.busy": "2025-04-09T07:39:50.398272Z",
     "iopub.status.idle": "2025-04-09T07:39:50.411713Z",
     "shell.execute_reply": "2025-04-09T07:39:50.410902Z",
     "shell.execute_reply.started": "2025-04-09T07:39:50.398492Z"
    },
    "trusted": true
   },
   "outputs": [],
   "source": [
    "def read_image(path):\n",
    "    path = path.decode()\n",
    "    x = cv2.imread(path, cv2.IMREAD_COLOR)\n",
    "    x = cv2.resize(x, (W, H))  \n",
    "    x = x / 255.0\n",
    "    x = x.astype(np.float32)\n",
    "    return x\n",
    "\n",
    "def read_mask(path):\n",
    "    path = path.decode()\n",
    "    x = cv2.imread(path, cv2.IMREAD_GRAYSCALE)  ## (h, w)\n",
    "    x = cv2.resize(x, (W, H))   ## (h, w)\n",
    "    x = x / 255.0               ## (h, w)\n",
    "    x = x.astype(np.float32)    ## (h, w)\n",
    "    x = np.expand_dims(x, axis=-1)## (h, w, 1)\n",
    "    return x"
   ]
  },
  {
   "cell_type": "code",
   "execution_count": 12,
   "metadata": {
    "execution": {
     "iopub.execute_input": "2025-04-09T07:39:50.412794Z",
     "iopub.status.busy": "2025-04-09T07:39:50.412526Z",
     "iopub.status.idle": "2025-04-09T07:39:50.429760Z",
     "shell.execute_reply": "2025-04-09T07:39:50.429048Z",
     "shell.execute_reply.started": "2025-04-09T07:39:50.412767Z"
    },
    "trusted": true
   },
   "outputs": [],
   "source": [
    "def tf_parse(x, y):\n",
    "    def _parse(x, y):\n",
    "        x = read_image(x)\n",
    "        y = read_mask(y)\n",
    "        return x, y\n",
    "\n",
    "    x, y = tf.numpy_function(_parse, [x, y], [tf.float32, tf.float32])\n",
    "    x.set_shape([H, W, 3])\n",
    "    y.set_shape([H, W, 1])\n",
    "    return x, y\n",
    "\n",
    "def tf_dataset(X, Y, batch=2):\n",
    "    dataset = tf.data.Dataset.from_tensor_slices((X, Y))\n",
    "    dataset = dataset.map(tf_parse)\n",
    "    dataset = dataset.batch(batch)\n",
    "    dataset = dataset.prefetch(10)\n",
    "    return dataset"
   ]
  },
  {
   "cell_type": "code",
   "execution_count": 13,
   "metadata": {
    "execution": {
     "iopub.execute_input": "2025-04-09T07:39:50.432830Z",
     "iopub.status.busy": "2025-04-09T07:39:50.432644Z",
     "iopub.status.idle": "2025-04-09T07:39:50.443798Z",
     "shell.execute_reply": "2025-04-09T07:39:50.442961Z",
     "shell.execute_reply.started": "2025-04-09T07:39:50.432813Z"
    },
    "trusted": true
   },
   "outputs": [],
   "source": [
    "batch_size = 16\n",
    "lr = 1e-4\n",
    "num_epochs = 300\n",
    "model_path = os.path.join(\"/kaggle/working/\", \"model.keras\")\n",
    "csv_path = os.path.join(\"/kaggle/working/\", \"log.csv\")\n",
    "dataset_path=\"/kaggle/input/unet-data-png/UNet_Data\""
   ]
  },
  {
   "cell_type": "code",
   "execution_count": null,
   "metadata": {
    "execution": {
     "iopub.execute_input": "2025-04-09T07:39:50.445269Z",
     "iopub.status.busy": "2025-04-09T07:39:50.445080Z",
     "iopub.status.idle": "2025-04-09T07:39:50.722423Z",
     "shell.execute_reply": "2025-04-09T07:39:50.721407Z",
     "shell.execute_reply.started": "2025-04-09T07:39:50.445253Z"
    },
    "trusted": true
   },
   "outputs": [],
   "source": [
    "(train_x, train_y), (valid_x, valid_y), (test_x, test_y) = load_dataset(dataset_path)\n",
    "\n",
    "print(f\"Train: ({len(train_x)},{len(train_y)})\")\n",
    "print(f\"Valid: ({len(valid_x)},{len(valid_x)})\")\n",
    "print(f\"Test: ({len(test_x)},{len(test_x)})\")"
   ]
  },
  {
   "cell_type": "code",
   "execution_count": 15,
   "metadata": {
    "execution": {
     "iopub.execute_input": "2025-04-09T07:39:50.723592Z",
     "iopub.status.busy": "2025-04-09T07:39:50.723357Z",
     "iopub.status.idle": "2025-04-09T07:39:51.011210Z",
     "shell.execute_reply": "2025-04-09T07:39:51.010497Z",
     "shell.execute_reply.started": "2025-04-09T07:39:50.723571Z"
    },
    "trusted": true
   },
   "outputs": [],
   "source": [
    "train_dataset = tf_dataset(train_x, train_y, batch=batch_size)\n",
    "valid_dataset = tf_dataset(valid_x, valid_y, batch=batch_size)"
   ]
  },
  {
   "cell_type": "code",
   "execution_count": 16,
   "metadata": {
    "execution": {
     "iopub.execute_input": "2025-04-09T07:39:51.012256Z",
     "iopub.status.busy": "2025-04-09T07:39:51.011982Z",
     "iopub.status.idle": "2025-04-09T07:39:51.317431Z",
     "shell.execute_reply": "2025-04-09T07:39:51.316534Z",
     "shell.execute_reply.started": "2025-04-09T07:39:51.012234Z"
    },
    "trusted": true
   },
   "outputs": [],
   "source": [
    "model = unet((H, W, 3))\n",
    "model.compile(loss=dice_loss, optimizer=Adam(lr), metrics=[dice_coef,'accuracy'])"
   ]
  },
  {
   "cell_type": "code",
   "execution_count": 17,
   "metadata": {
    "execution": {
     "iopub.execute_input": "2025-04-09T07:39:51.318600Z",
     "iopub.status.busy": "2025-04-09T07:39:51.318273Z",
     "iopub.status.idle": "2025-04-09T07:39:51.323238Z",
     "shell.execute_reply": "2025-04-09T07:39:51.322180Z",
     "shell.execute_reply.started": "2025-04-09T07:39:51.318569Z"
    },
    "trusted": true
   },
   "outputs": [],
   "source": [
    "callbacks = [\n",
    "        ModelCheckpoint(model_path, verbose=1, save_best_only=True),\n",
    "        ReduceLROnPlateau(monitor='val_loss', factor=0.1, patience=5, min_lr=1e-7, verbose=1),\n",
    "        CSVLogger(csv_path),\n",
    "        EarlyStopping(monitor='val_loss', patience=20, restore_best_weights=False),\n",
    "    ]"
   ]
  },
  {
   "cell_type": "code",
   "execution_count": null,
   "metadata": {
    "execution": {
     "iopub.execute_input": "2025-04-09T07:39:51.324603Z",
     "iopub.status.busy": "2025-04-09T07:39:51.324267Z",
     "iopub.status.idle": "2025-04-09T09:05:10.397496Z",
     "shell.execute_reply": "2025-04-09T09:05:10.396764Z",
     "shell.execute_reply.started": "2025-04-09T07:39:51.324570Z"
    },
    "trusted": true
   },
   "outputs": [],
   "source": [
    "model.fit(\n",
    "        train_dataset,\n",
    "        epochs=num_epochs,\n",
    "        validation_data=valid_dataset,\n",
    "        callbacks=callbacks,\n",
    "        verbose=1,\n",
    "    )"
   ]
  },
  {
   "cell_type": "code",
   "execution_count": null,
   "metadata": {
    "execution": {
     "iopub.execute_input": "2025-04-09T09:05:10.398641Z",
     "iopub.status.busy": "2025-04-09T09:05:10.398352Z",
     "iopub.status.idle": "2025-04-09T09:05:10.426731Z",
     "shell.execute_reply": "2025-04-09T09:05:10.426040Z",
     "shell.execute_reply.started": "2025-04-09T09:05:10.398610Z"
    },
    "trusted": true
   },
   "outputs": [],
   "source": [
    "import pandas as pd\n",
    "metrics = pd.read_csv(\"/kaggle/working/log.csv\")\n",
    "metrics.head(2)"
   ]
  },
  {
   "cell_type": "code",
   "execution_count": null,
   "metadata": {
    "execution": {
     "iopub.execute_input": "2025-04-09T09:05:10.427930Z",
     "iopub.status.busy": "2025-04-09T09:05:10.427623Z",
     "iopub.status.idle": "2025-04-09T09:05:10.736706Z",
     "shell.execute_reply": "2025-04-09T09:05:10.736087Z",
     "shell.execute_reply.started": "2025-04-09T09:05:10.427908Z"
    },
    "trusted": true
   },
   "outputs": [],
   "source": [
    "metrics[['dice_coef','val_dice_coef']].plot()"
   ]
  },
  {
   "cell_type": "code",
   "execution_count": null,
   "metadata": {
    "execution": {
     "iopub.execute_input": "2025-04-09T09:05:10.737721Z",
     "iopub.status.busy": "2025-04-09T09:05:10.737421Z",
     "iopub.status.idle": "2025-04-09T09:05:10.925757Z",
     "shell.execute_reply": "2025-04-09T09:05:10.924905Z",
     "shell.execute_reply.started": "2025-04-09T09:05:10.737688Z"
    },
    "trusted": true
   },
   "outputs": [],
   "source": [
    "metrics[['accuracy','val_accuracy']].plot()"
   ]
  },
  {
   "cell_type": "code",
   "execution_count": null,
   "metadata": {
    "execution": {
     "iopub.execute_input": "2025-04-09T09:05:10.927048Z",
     "iopub.status.busy": "2025-04-09T09:05:10.926695Z",
     "iopub.status.idle": "2025-04-09T09:05:11.115739Z",
     "shell.execute_reply": "2025-04-09T09:05:11.115041Z",
     "shell.execute_reply.started": "2025-04-09T09:05:10.927014Z"
    },
    "trusted": true
   },
   "outputs": [],
   "source": [
    "metrics[['loss','val_loss']].plot()"
   ]
  },
  {
   "cell_type": "code",
   "execution_count": 23,
   "metadata": {
    "execution": {
     "iopub.execute_input": "2025-04-09T09:05:11.116668Z",
     "iopub.status.busy": "2025-04-09T09:05:11.116458Z",
     "iopub.status.idle": "2025-04-09T09:05:11.120603Z",
     "shell.execute_reply": "2025-04-09T09:05:11.119592Z",
     "shell.execute_reply.started": "2025-04-09T09:05:11.116650Z"
    },
    "trusted": true
   },
   "outputs": [],
   "source": [
    "create_dir(\"results\")\n",
    "\n",
    "# with CustomObjectScope({\"dice_coef\": dice_coef, \"dice_loss\": dice_loss}):\n",
    "#     model = tf.keras.models.load_model(os.path.join(\"files\", \"model.h5\"))"
   ]
  },
  {
   "cell_type": "code",
   "execution_count": 24,
   "metadata": {
    "execution": {
     "iopub.execute_input": "2025-04-09T09:05:11.121663Z",
     "iopub.status.busy": "2025-04-09T09:05:11.121433Z",
     "iopub.status.idle": "2025-04-09T09:05:11.140241Z",
     "shell.execute_reply": "2025-04-09T09:05:11.139410Z",
     "shell.execute_reply.started": "2025-04-09T09:05:11.121644Z"
    },
    "trusted": true
   },
   "outputs": [],
   "source": [
    "from tqdm import tqdm\n",
    "def save_results(image, mask, y_pred, save_image_path):\n",
    "    mask = np.expand_dims(mask, axis=-1)\n",
    "    mask = np.concatenate([mask, mask, mask], axis=-1)\n",
    "\n",
    "    y_pred = np.expand_dims(y_pred, axis=-1)\n",
    "    y_pred = np.concatenate([y_pred, y_pred, y_pred], axis=-1)\n",
    "    y_pred = y_pred * 255\n",
    "\n",
    "    line = np.ones((H, 10, 3)) * 255\n",
    "\n",
    "    cat_images = np.concatenate([image, line, mask, line, y_pred], axis=1)\n",
    "    cv2.imwrite(save_image_path, cat_images)"
   ]
  },
  {
   "cell_type": "code",
   "execution_count": null,
   "metadata": {
    "execution": {
     "iopub.execute_input": "2025-04-09T09:05:11.141244Z",
     "iopub.status.busy": "2025-04-09T09:05:11.141010Z",
     "iopub.status.idle": "2025-04-09T09:05:57.374288Z",
     "shell.execute_reply": "2025-04-09T09:05:57.373142Z",
     "shell.execute_reply.started": "2025-04-09T09:05:11.141224Z"
    },
    "trusted": true
   },
   "outputs": [],
   "source": [
    "SCORE = []\n",
    "for x, y in tqdm(zip(test_x, test_y), total=len(test_y)):\n",
    "    \"\"\" Extracting the name \"\"\"\n",
    "    name = x.split(\"/\")[-1]\n",
    "\n",
    "    \"\"\" Reading the image \"\"\"\n",
    "    image = cv2.imread(x, cv2.IMREAD_COLOR) ## [H, w, 3]\n",
    "    image = cv2.resize(image, (W, H))       ## [H, w, 3]\n",
    "    x = image/255.0                         ## [H, w, 3]\n",
    "    x = np.expand_dims(x, axis=0)           ## [1, H, w, 3]\n",
    "\n",
    "    \"\"\" Reading the mask \"\"\"\n",
    "    mask = cv2.imread(y, cv2.IMREAD_GRAYSCALE)\n",
    "    mask = cv2.resize(mask, (W, H))\n",
    "\n",
    "    \"\"\" Prediction \"\"\"\n",
    "    y_pred = model.predict(x, verbose=0)[0]\n",
    "    y_pred = np.squeeze(y_pred, axis=-1)\n",
    "    y_pred = y_pred >= 0.5\n",
    "    y_pred = y_pred.astype(np.int32)\n",
    "\n",
    "    \"\"\" Saving the prediction \"\"\"\n",
    "    save_image_path = os.path.join(\"results\", name)\n",
    "    save_results(image, mask, y_pred, save_image_path)\n",
    "\n",
    "    \"\"\" Flatten the array \"\"\"\n",
    "    mask = mask/255.0\n",
    "    mask = (mask > 0.5).astype(np.int32).flatten()\n",
    "    y_pred = y_pred.flatten()\n",
    "\n",
    "    \"\"\" Calculating the metrics values \"\"\"\n",
    "    f1_value = f1_score(mask, y_pred, labels=[0, 1], average=\"binary\")\n",
    "    jac_value = jaccard_score(mask, y_pred, labels=[0, 1], average=\"binary\")\n",
    "    recall_value = recall_score(mask, y_pred, labels=[0, 1], average=\"binary\", zero_division=0)\n",
    "    precision_value = precision_score(mask, y_pred, labels=[0, 1], average=\"binary\", zero_division=0)\n",
    "    SCORE.append([name, f1_value, jac_value, recall_value, precision_value])\n",
    "\n",
    "\"\"\" Metrics values \"\"\"\n",
    "score = [s[1:]for s in SCORE]\n",
    "score = np.mean(score, axis=0)\n",
    "print(f\"F1: {score[0]:0.5f}\")\n",
    "print(f\"Jaccard: {score[1]:0.5f}\")\n",
    "print(f\"Recall: {score[2]:0.5f}\")\n",
    "print(f\"Precision: {score[3]:0.5f}\")\n",
    "\n",
    "df = pd.DataFrame(SCORE, columns=[\"Image\", \"F1\", \"Jaccard\", \"Recall\", \"Precision\"])\n",
    "df.to_csv(\"files/score.csv\", index=None)"
   ]
  },
  {
   "cell_type": "code",
   "execution_count": null,
   "metadata": {
    "execution": {
     "iopub.execute_input": "2025-04-09T09:05:57.375627Z",
     "iopub.status.busy": "2025-04-09T09:05:57.375295Z",
     "iopub.status.idle": "2025-04-09T09:05:57.578933Z",
     "shell.execute_reply": "2025-04-09T09:05:57.578062Z",
     "shell.execute_reply.started": "2025-04-09T09:05:57.375592Z"
    },
    "trusted": true
   },
   "outputs": [],
   "source": [
    "dir = \"/kaggle/working/results/\"\n",
    "images = os.listdir(\"/kaggle/working/results\")[:5]\n",
    "img1 = plt.imread(dir+images[0])\n",
    "plt.imshow(img1, cmap='gray')"
   ]
  },
  {
   "cell_type": "code",
   "execution_count": null,
   "metadata": {
    "execution": {
     "iopub.execute_input": "2025-04-09T09:05:57.580163Z",
     "iopub.status.busy": "2025-04-09T09:05:57.579841Z",
     "iopub.status.idle": "2025-04-09T09:05:57.778472Z",
     "shell.execute_reply": "2025-04-09T09:05:57.777592Z",
     "shell.execute_reply.started": "2025-04-09T09:05:57.580134Z"
    },
    "trusted": true
   },
   "outputs": [],
   "source": [
    "img1 = plt.imread(dir+images[1])\n",
    "plt.imshow(img1, cmap='gray')"
   ]
  },
  {
   "cell_type": "code",
   "execution_count": null,
   "metadata": {
    "execution": {
     "iopub.execute_input": "2025-04-09T09:05:57.779705Z",
     "iopub.status.busy": "2025-04-09T09:05:57.779373Z",
     "iopub.status.idle": "2025-04-09T09:05:57.971803Z",
     "shell.execute_reply": "2025-04-09T09:05:57.970957Z",
     "shell.execute_reply.started": "2025-04-09T09:05:57.779670Z"
    },
    "trusted": true
   },
   "outputs": [],
   "source": [
    "img1 = plt.imread(dir+images[2])\n",
    "plt.imshow(img1, cmap='gray')"
   ]
  },
  {
   "cell_type": "code",
   "execution_count": null,
   "metadata": {
    "execution": {
     "iopub.execute_input": "2025-04-09T09:05:57.972915Z",
     "iopub.status.busy": "2025-04-09T09:05:57.972612Z",
     "iopub.status.idle": "2025-04-09T09:05:58.170847Z",
     "shell.execute_reply": "2025-04-09T09:05:58.169953Z",
     "shell.execute_reply.started": "2025-04-09T09:05:57.972884Z"
    },
    "trusted": true
   },
   "outputs": [],
   "source": [
    "img1 = plt.imread(dir+images[3])\n",
    "plt.imshow(img1, cmap='gray')"
   ]
  },
  {
   "cell_type": "code",
   "execution_count": null,
   "metadata": {
    "execution": {
     "iopub.execute_input": "2025-04-09T09:05:58.172071Z",
     "iopub.status.busy": "2025-04-09T09:05:58.171743Z",
     "iopub.status.idle": "2025-04-09T09:05:58.359674Z",
     "shell.execute_reply": "2025-04-09T09:05:58.358831Z",
     "shell.execute_reply.started": "2025-04-09T09:05:58.172043Z"
    },
    "trusted": true
   },
   "outputs": [],
   "source": [
    "img1 = plt.imread(dir+images[4])\n",
    "plt.imshow(img1, cmap='gray')"
   ]
  }
 ],
 "metadata": {
  "kaggle": {
   "accelerator": "gpu",
   "dataSources": [
    {
     "datasetId": 7088424,
     "sourceId": 11331485,
     "sourceType": "datasetVersion"
    }
   ],
   "dockerImageVersionId": 30919,
   "isGpuEnabled": true,
   "isInternetEnabled": false,
   "language": "python",
   "sourceType": "notebook"
  },
  "kernelspec": {
   "display_name": ".venv",
   "language": "python",
   "name": "python3"
  },
  "language_info": {
   "codemirror_mode": {
    "name": "ipython",
    "version": 3
   },
   "file_extension": ".py",
   "mimetype": "text/x-python",
   "name": "python",
   "nbconvert_exporter": "python",
   "pygments_lexer": "ipython3",
   "version": "3.12.10"
  }
 },
 "nbformat": 4,
 "nbformat_minor": 4
}
